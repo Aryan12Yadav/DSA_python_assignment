{
 "cells": [
  {
   "cell_type": "code",
   "execution_count": 112,
   "id": "6c5f6554",
   "metadata": {},
   "outputs": [],
   "source": [
    "class Stack:\n",
    "    \n",
    "    def __init__(self,capacity):\n",
    "        self.top  = -1\n",
    "        self.arr = [None]*capacity\n",
    "        self.capacity = capacity \n",
    "        \n",
    "    def isEmpty(self):\n",
    "        return self.top == -1\n",
    "    \n",
    "    def isFull(self):\n",
    "        return self.top == self.capacity-1\n",
    "    \n",
    "    def push(self,data):\n",
    "        if self.isFull():\n",
    "            return \"Stack overflow\"\n",
    "        self.top +=1\n",
    "        self.arr[self.top] = data\n",
    "        \n",
    "    def pop(self):\n",
    "        if self.isEmpty():\n",
    "            return \"Stack Underflow\"\n",
    "        \n",
    "        data = self.arr[self.top]\n",
    "        self.arr[self.top] = None\n",
    "        self.top -=1\n",
    "        return data\n",
    "    \n",
    "        \n",
    "    def traverse(self):\n",
    "        for i in range(self.top+1):\n",
    "            print(self.arr[i],end = \",\")\n",
    "            \n",
    "    \n",
    "    def peek(self):\n",
    "        if self.isEmpty():\n",
    "            return \"Stack Underflow\"\n",
    "        data = self.arr[self.top]\n",
    "        return data\n",
    "    \n",
    "    \n",
    "        \n",
    "        "
   ]
  },
  {
   "cell_type": "code",
   "execution_count": 113,
   "id": "bc17455a",
   "metadata": {},
   "outputs": [],
   "source": [
    "stack = Stack(55)"
   ]
  },
  {
   "cell_type": "code",
   "execution_count": 114,
   "id": "cba247ff",
   "metadata": {},
   "outputs": [
    {
     "data": {
      "text/plain": [
       "True"
      ]
     },
     "execution_count": 114,
     "metadata": {},
     "output_type": "execute_result"
    }
   ],
   "source": [
    "stack.isEmpty()"
   ]
  },
  {
   "cell_type": "code",
   "execution_count": 115,
   "id": "b5d0f6b7",
   "metadata": {},
   "outputs": [],
   "source": [
    "stack.traverse()"
   ]
  },
  {
   "cell_type": "code",
   "execution_count": 116,
   "id": "0771a497",
   "metadata": {},
   "outputs": [],
   "source": [
    "stack.push(4)"
   ]
  },
  {
   "cell_type": "code",
   "execution_count": 117,
   "id": "42b04c4c",
   "metadata": {},
   "outputs": [
    {
     "name": "stdout",
     "output_type": "stream",
     "text": [
      "4,"
     ]
    }
   ],
   "source": [
    "stack.traverse()"
   ]
  },
  {
   "cell_type": "code",
   "execution_count": 118,
   "id": "e074674b",
   "metadata": {},
   "outputs": [
    {
     "data": {
      "text/plain": [
       "4"
      ]
     },
     "execution_count": 118,
     "metadata": {},
     "output_type": "execute_result"
    }
   ],
   "source": [
    "stack.pop()"
   ]
  },
  {
   "cell_type": "code",
   "execution_count": 119,
   "id": "e0d00502",
   "metadata": {},
   "outputs": [],
   "source": [
    "stack.traverse()"
   ]
  },
  {
   "cell_type": "code",
   "execution_count": 120,
   "id": "c46b1a08",
   "metadata": {},
   "outputs": [
    {
     "data": {
      "text/plain": [
       "'Stack Underflow'"
      ]
     },
     "execution_count": 120,
     "metadata": {},
     "output_type": "execute_result"
    }
   ],
   "source": [
    "stack.peek()"
   ]
  },
  {
   "cell_type": "code",
   "execution_count": 121,
   "id": "397b2357",
   "metadata": {},
   "outputs": [],
   "source": [
    "stack.push(2)"
   ]
  },
  {
   "cell_type": "code",
   "execution_count": 122,
   "id": "3735d521",
   "metadata": {},
   "outputs": [
    {
     "data": {
      "text/plain": [
       "2"
      ]
     },
     "execution_count": 122,
     "metadata": {},
     "output_type": "execute_result"
    }
   ],
   "source": [
    "stack.peek()"
   ]
  },
  {
   "cell_type": "code",
   "execution_count": 123,
   "id": "f702065e",
   "metadata": {},
   "outputs": [],
   "source": [
    "stack.push(\"aryan\")"
   ]
  },
  {
   "cell_type": "code",
   "execution_count": 124,
   "id": "c878bf20",
   "metadata": {},
   "outputs": [
    {
     "data": {
      "text/plain": [
       "'aryan'"
      ]
     },
     "execution_count": 124,
     "metadata": {},
     "output_type": "execute_result"
    }
   ],
   "source": [
    "stack.peek()"
   ]
  },
  {
   "cell_type": "code",
   "execution_count": 125,
   "id": "b5fddc73",
   "metadata": {},
   "outputs": [],
   "source": [
    "stack.push(\"yadav\")"
   ]
  },
  {
   "cell_type": "code",
   "execution_count": 126,
   "id": "dd1df09c",
   "metadata": {},
   "outputs": [],
   "source": [
    "stack.push(\"prince\")"
   ]
  },
  {
   "cell_type": "code",
   "execution_count": 127,
   "id": "26165968",
   "metadata": {},
   "outputs": [],
   "source": [
    "stack.push(\"OMkar\")"
   ]
  },
  {
   "cell_type": "code",
   "execution_count": 128,
   "id": "755cdc3e",
   "metadata": {},
   "outputs": [],
   "source": [
    "stack.push(\"pratuyush\")"
   ]
  },
  {
   "cell_type": "code",
   "execution_count": 129,
   "id": "39200b63",
   "metadata": {},
   "outputs": [
    {
     "name": "stdout",
     "output_type": "stream",
     "text": [
      "2,aryan,yadav,prince,OMkar,pratuyush,"
     ]
    }
   ],
   "source": [
    "stack.traverse()"
   ]
  },
  {
   "cell_type": "code",
   "execution_count": 130,
   "id": "843744db",
   "metadata": {},
   "outputs": [
    {
     "data": {
      "text/plain": [
       "'pratuyush'"
      ]
     },
     "execution_count": 130,
     "metadata": {},
     "output_type": "execute_result"
    }
   ],
   "source": [
    "stack.peek()"
   ]
  },
  {
   "cell_type": "code",
   "execution_count": 131,
   "id": "9d83c43e",
   "metadata": {},
   "outputs": [
    {
     "data": {
      "text/plain": [
       "'pratuyush'"
      ]
     },
     "execution_count": 131,
     "metadata": {},
     "output_type": "execute_result"
    }
   ],
   "source": [
    "stack.peek()"
   ]
  },
  {
   "cell_type": "code",
   "execution_count": 132,
   "id": "70ad0cdd",
   "metadata": {},
   "outputs": [
    {
     "data": {
      "text/plain": [
       "'pratuyush'"
      ]
     },
     "execution_count": 132,
     "metadata": {},
     "output_type": "execute_result"
    }
   ],
   "source": [
    "stack.pop()"
   ]
  },
  {
   "cell_type": "code",
   "execution_count": 4,
   "id": "c71751cf",
   "metadata": {},
   "outputs": [],
   "source": [
    "class Node :\n",
    "\n",
    "  def __init__(self, data, next=None):\n",
    "    self.data = data\n",
    "    self.next = next\n",
    "\n",
    "  def getData(self):\n",
    "    return self.data\n",
    "\n",
    "  def setData(self, data):\n",
    "    self.data = data\n",
    "\n",
    "  def setNext(self, next):\n",
    "    self.next = next\n",
    "\n",
    "  def getNext(self):\n",
    "    return self.next"
   ]
  },
  {
   "cell_type": "code",
   "execution_count": 5,
   "id": "514b5fa8",
   "metadata": {},
   "outputs": [],
   "source": [
    "class StackLL :\n",
    "  def __init__(self):\n",
    "    self.head = None #in the begining stack is empty so head is None\n",
    "\n",
    "  def isEmpty(self):\n",
    "    return self.head == None #in the begining, head is None\n",
    "\n",
    "  def push(self, data):\n",
    "    node = Node(data) # create a new node with the given data\n",
    "    node.setNext(self.head)\n",
    "    self.head = node\n",
    "\n",
    "  def pop(self):\n",
    "    if(self.isEmpty()):\n",
    "      print(\"Stack underflow\")\n",
    "      return\n",
    "    data = self.head.getData()\n",
    "    self.head = self.head.getNext()\n",
    "    return data\n",
    "\n",
    "  def peek(self):\n",
    "    if(self.isEmpty()):\n",
    "      print(\"Stack underflow\")\n",
    "      return\n",
    "    data = self.head.getData() #No changes in the head\n",
    "    return data\n",
    "\n",
    "  def size(self):   #Find the current size of stack\n",
    "    size =0\n",
    "    temp = self.head\n",
    "    while(temp):\n",
    "      size +=1\n",
    "      temp=temp.getNext()\n",
    "    return size\n",
    "\n",
    "  def traverse(self):  #Traverse the elements of the stac\n",
    "    temp = self.head\n",
    "    while(temp):\n",
    "      print(temp.getData(), end=\" -> \")\n",
    "      temp = temp.getNext()"
   ]
  },
  {
   "cell_type": "code",
   "execution_count": 6,
   "id": "df225c22",
   "metadata": {},
   "outputs": [],
   "source": [
    "stack = StackLL()\n",
    "\n",
    "stack.push(7)\n",
    "stack.push(9)\n",
    "stack.push(3)"
   ]
  },
  {
   "cell_type": "code",
   "execution_count": 7,
   "id": "11a30fb0",
   "metadata": {},
   "outputs": [
    {
     "name": "stdout",
     "output_type": "stream",
     "text": [
      "3 -> 9 -> 7 -> \n"
     ]
    }
   ],
   "source": [
    "stack.traverse()\n",
    "print()"
   ]
  },
  {
   "cell_type": "code",
   "execution_count": 8,
   "id": "dfb845f7",
   "metadata": {},
   "outputs": [
    {
     "name": "stdout",
     "output_type": "stream",
     "text": [
      "3\n"
     ]
    }
   ],
   "source": [
    "print(stack.pop())"
   ]
  },
  {
   "cell_type": "code",
   "execution_count": 9,
   "id": "c480a5e5",
   "metadata": {},
   "outputs": [
    {
     "name": "stdout",
     "output_type": "stream",
     "text": [
      "9 -> 7 -> "
     ]
    }
   ],
   "source": [
    "stack.traverse()"
   ]
  },
  {
   "cell_type": "code",
   "execution_count": 10,
   "id": "9ddd0c02",
   "metadata": {},
   "outputs": [],
   "source": [
    "def areBracketsBalanced(exp):\n",
    "\n",
    "  #Define a stack object\n",
    "  stack = StackLL()\n",
    "\n",
    "  #iterate through each bracket in the given exp\n",
    "  for c in exp :\n",
    "    if c in ['(','{','['] :\n",
    "      stack.push(c)  #if c is one of the opening bracket, then push to the stack\n",
    "    else :\n",
    "      if stack.isEmpty():\n",
    "        return False\n",
    "      char = stack.pop()\n",
    "      if  char == \"(\" and c != \")\":\n",
    "        return False\n",
    "      elif char == \"{\" and c != \"}\":\n",
    "         return False\n",
    "      elif char == \"[\" and c != \"]\":\n",
    "        return False\n",
    "  return stack.isEmpty()\n",
    "\n"
   ]
  },
  {
   "cell_type": "code",
   "execution_count": 11,
   "id": "c852f313",
   "metadata": {},
   "outputs": [
    {
     "data": {
      "text/plain": [
       "True"
      ]
     },
     "execution_count": 11,
     "metadata": {},
     "output_type": "execute_result"
    }
   ],
   "source": [
    "areBracketsBalanced('([{}])')"
   ]
  },
  {
   "cell_type": "code",
   "execution_count": 12,
   "id": "b00a3f0a",
   "metadata": {},
   "outputs": [
    {
     "name": "stdout",
     "output_type": "stream",
     "text": [
      "False\n"
     ]
    }
   ],
   "source": [
    "print(areBracketsBalanced(\"{[{}}]\"))\n"
   ]
  },
  {
   "cell_type": "code",
   "execution_count": 13,
   "id": "04cbb884",
   "metadata": {},
   "outputs": [
    {
     "data": {
      "text/plain": [
       "False"
      ]
     },
     "execution_count": 13,
     "metadata": {},
     "output_type": "execute_result"
    }
   ],
   "source": [
    "areBracketsBalanced(\"{{{[{}]]}}}\")"
   ]
  },
  {
   "cell_type": "raw",
   "id": "8a9d9d6d",
   "metadata": {},
   "source": [
    "Assignment Problem :\n",
    "\n",
    "Delete the middle element of the stack. And you are allowed to use only the push and pop methods of the stack. you can't manipulate the internal DS used to store the data"
   ]
  },
  {
   "cell_type": "code",
   "execution_count": 14,
   "id": "cbc501b1",
   "metadata": {},
   "outputs": [],
   "source": [
    "def deleteMiddle(stack):\n",
    "  #Implement this method -> push/pop/peek\n",
    "  s2 = StackLL()\n",
    "\n",
    "  size = stack.size()\n",
    "\n",
    "  count = 0\n",
    "\n",
    "  while(count < int(size/2)):\n",
    "    s2.push(stack.pop())\n",
    "    count +=1\n",
    "  stack.pop()\n",
    "  while(not s2.isEmpty()):\n",
    "    stack.push(s2.pop())\n"
   ]
  },
  {
   "cell_type": "code",
   "execution_count": 15,
   "id": "86e7ed6f",
   "metadata": {},
   "outputs": [],
   "source": [
    "s = StackLL()\n",
    "s.push(5)\n",
    "s.push(9)\n",
    "s.push(9)\n",
    "s.push(9)\n",
    "s.push(2)"
   ]
  },
  {
   "cell_type": "code",
   "execution_count": 16,
   "id": "26a253b6",
   "metadata": {},
   "outputs": [
    {
     "name": "stdout",
     "output_type": "stream",
     "text": [
      "2 -> 9 -> 9 -> 9 -> 5 -> "
     ]
    }
   ],
   "source": [
    "s.traverse()"
   ]
  },
  {
   "cell_type": "code",
   "execution_count": 17,
   "id": "2d0cf878",
   "metadata": {},
   "outputs": [],
   "source": [
    "deleteMiddle(s)"
   ]
  },
  {
   "cell_type": "code",
   "execution_count": 18,
   "id": "7b60a81f",
   "metadata": {},
   "outputs": [
    {
     "name": "stdout",
     "output_type": "stream",
     "text": [
      "2 -> 9 -> 9 -> 5 -> "
     ]
    }
   ],
   "source": [
    "s.traverse()"
   ]
  },
  {
   "cell_type": "code",
   "execution_count": 19,
   "id": "cf63fa81",
   "metadata": {},
   "outputs": [],
   "source": [
    "def deleteMiddle(s,sizeOfStack, curr):\n",
    "  if (s.isEmpty() or curr == sizeOfStack):\n",
    "    return\n",
    "\n",
    "  #Remove the current item\n",
    "  x = s.pop()\n",
    "\n",
    "  #Recursively call the fn\n",
    "  deleteMiddle(s,sizeOfStack, curr+1)\n",
    "\n",
    "  #Put the item back\n",
    "  if(curr != int(sizeOfStack/2)):\n",
    "    s.push(x)"
   ]
  },
  {
   "cell_type": "code",
   "execution_count": 20,
   "id": "dd9053ed",
   "metadata": {},
   "outputs": [],
   "source": [
    "s = StackLL()\n",
    "s.push(3)\n",
    "s.push(1)\n",
    "\n",
    "\n",
    "size = s.size()\n",
    "\n"
   ]
  },
  {
   "cell_type": "code",
   "execution_count": 21,
   "id": "27050e8d",
   "metadata": {},
   "outputs": [
    {
     "name": "stdout",
     "output_type": "stream",
     "text": [
      "1 -> 3 -> "
     ]
    }
   ],
   "source": [
    "s.traverse()"
   ]
  },
  {
   "cell_type": "code",
   "execution_count": 22,
   "id": "963a26db",
   "metadata": {},
   "outputs": [],
   "source": [
    "deleteMiddle(s,size, 0)"
   ]
  },
  {
   "cell_type": "code",
   "execution_count": 23,
   "id": "541e71c2",
   "metadata": {},
   "outputs": [
    {
     "name": "stdout",
     "output_type": "stream",
     "text": [
      "1 -> "
     ]
    }
   ],
   "source": [
    "s.traverse()"
   ]
  },
  {
   "cell_type": "markdown",
   "id": "15402f1e",
   "metadata": {},
   "source": [
    "# Queue"
   ]
  },
  {
   "cell_type": "code",
   "execution_count": 13,
   "id": "6abc7b7a",
   "metadata": {},
   "outputs": [],
   "source": [
    "class Node :\n",
    "\n",
    "  def __init__(self, data, next=None):\n",
    "    self.data = data\n",
    "    self.next = next\n",
    "\n",
    "  def getData(self):\n",
    "    return self.data\n",
    "\n",
    "  def setData(self, data):\n",
    "    self.data = data\n",
    "\n",
    "  def setNext(self, next):\n",
    "    self.next = next\n",
    "\n",
    "  def getNext(self):\n",
    "    return self.next"
   ]
  },
  {
   "cell_type": "code",
   "execution_count": 14,
   "id": "71e80ba0",
   "metadata": {},
   "outputs": [],
   "source": [
    "class Queue :\n",
    "  def __init__(self):\n",
    "    self.head = None\n",
    "    self.tail = None\n",
    "    self.size =0\n",
    "\n",
    "  def isEmpty(self):\n",
    "    return self.head == None # self.tail == None\n",
    "\n",
    "  def enQue(self, data):\n",
    "    node = Node(data)\n",
    "\n",
    "    if self.isEmpty():\n",
    "      self.head = node\n",
    "      self.tail = node\n",
    "    else :\n",
    "      self.tail.setNext(node)\n",
    "      self.tail = self.tail.getNext()\n",
    "    self.size +=1\n",
    "\n",
    "  def deQueue(self):\n",
    "    if self.isEmpty():\n",
    "      print(\"Queue underflow\")\n",
    "      return\n",
    "    data = self.head.getData()\n",
    "\n",
    "    #chek if it's the only element\n",
    "    if(self.head == self.tail):\n",
    "      self.head = None\n",
    "      self.tail= None #Becase after deQue, Queue will be empty\n",
    "    else:\n",
    "      self.head = self.head.getNext()\n",
    "    self.size -= 1\n",
    "    return data\n",
    "\n",
    "  def traverse(self):\n",
    "    temp = self.head\n",
    "    while(temp ):\n",
    "      print(temp.getData(), end=\"->\")\n",
    "      temp = temp.getNext()\n",
    "    print()\n",
    "\n",
    "\n",
    "\n"
   ]
  },
  {
   "cell_type": "code",
   "execution_count": 16,
   "id": "4d0eb958",
   "metadata": {},
   "outputs": [],
   "source": [
    "s1 = Queue()"
   ]
  },
  {
   "cell_type": "code",
   "execution_count": 17,
   "id": "4051199d",
   "metadata": {},
   "outputs": [
    {
     "name": "stdout",
     "output_type": "stream",
     "text": [
      "Queue underflow\n"
     ]
    }
   ],
   "source": [
    "s1.deQueue()"
   ]
  },
  {
   "cell_type": "code",
   "execution_count": 56,
   "id": "aa3acdd8",
   "metadata": {},
   "outputs": [
    {
     "name": "stdout",
     "output_type": "stream",
     "text": [
      "2->aryan->yadav->prince->yad->\n"
     ]
    }
   ],
   "source": [
    "s1.traverse()"
   ]
  },
  {
   "cell_type": "code",
   "execution_count": 55,
   "id": "3c437ea0",
   "metadata": {},
   "outputs": [],
   "source": [
    "s1.enQue(2)\n",
    "s1.enQue(\"aryan\")\n",
    "s1.enQue(\"yadav\")\n",
    "s1.enQue(\"prince\")\n",
    "s1.enQue(\"yad\")"
   ]
  },
  {
   "cell_type": "code",
   "execution_count": 57,
   "id": "f163d6fe",
   "metadata": {},
   "outputs": [
    {
     "data": {
      "text/plain": [
       "2"
      ]
     },
     "execution_count": 57,
     "metadata": {},
     "output_type": "execute_result"
    }
   ],
   "source": [
    "s1.deQueue()    # queue follow FIFO \n",
    "\n",
    "\n",
    "\n",
    "\n",
    "\n",
    "\n",
    "\n",
    "\n",
    "\n",
    "\n",
    "\n",
    "\n",
    "\n",
    "\n"
   ]
  },
  {
   "cell_type": "code",
   "execution_count": null,
   "id": "adc4510e",
   "metadata": {},
   "outputs": [],
   "source": []
  },
  {
   "cell_type": "code",
   "execution_count": null,
   "id": "95769f7a",
   "metadata": {},
   "outputs": [],
   "source": []
  },
  {
   "cell_type": "code",
   "execution_count": 20,
   "id": "97ec00eb",
   "metadata": {},
   "outputs": [],
   "source": [
    "s1.enQue(6)"
   ]
  },
  {
   "cell_type": "code",
   "execution_count": 6,
   "id": "1ff413d2",
   "metadata": {},
   "outputs": [],
   "source": [
    "#Implement Stack using Queue\n",
    "class stack :\n",
    "  def __init__(self):\n",
    "    self.q1 = Queue() # it will act as the main queue\n",
    "    self.q2 = Queue()\n",
    "\n",
    "  def isEmpty(self):\n",
    "    return self.q1.isEmpty()\n",
    "\n",
    "  def push(self , data):\n",
    "    self.q1.enQue(data)\n",
    "\n",
    "  def pop(self):\n",
    "    if self.isEmpty():\n",
    "      print(\"Stack underflow error\")\n",
    "    # We need to pick the last element added\n",
    "    data = None\n",
    "    while not self.q1.isEmpty():\n",
    "      data = self.q1.deQueue()\n",
    "      if( not self.q1.isEmpty()):\n",
    "        self.q2.enQue(data)\n",
    "    self.q1, self.q2 = self.q2,self.q1\n",
    "    return data\n",
    "\n",
    "  def traverse(self):\n",
    "    self.q1.traverse()"
   ]
  },
  {
   "cell_type": "code",
   "execution_count": null,
   "id": "d594dc9c",
   "metadata": {},
   "outputs": [],
   "source": []
  },
  {
   "cell_type": "code",
   "execution_count": null,
   "id": "2d189e32",
   "metadata": {},
   "outputs": [],
   "source": []
  },
  {
   "cell_type": "code",
   "execution_count": null,
   "id": "4b810791",
   "metadata": {},
   "outputs": [],
   "source": []
  },
  {
   "cell_type": "code",
   "execution_count": null,
   "id": "7dcc5976",
   "metadata": {},
   "outputs": [],
   "source": []
  },
  {
   "cell_type": "code",
   "execution_count": null,
   "id": "acf5da01",
   "metadata": {},
   "outputs": [],
   "source": []
  },
  {
   "cell_type": "code",
   "execution_count": 155,
   "id": "106c3a84",
   "metadata": {},
   "outputs": [],
   "source": [
    "s = stack()"
   ]
  },
  {
   "cell_type": "code",
   "execution_count": 156,
   "id": "81f6e33e",
   "metadata": {},
   "outputs": [
    {
     "name": "stdout",
     "output_type": "stream",
     "text": [
      "True\n"
     ]
    }
   ],
   "source": [
    "print(s.isEmpty())"
   ]
  },
  {
   "cell_type": "code",
   "execution_count": 157,
   "id": "1f187d4d",
   "metadata": {},
   "outputs": [],
   "source": [
    "s.push(5)\n",
    "s.push(9)\n",
    "s.push(3)\n",
    "s.push(2)"
   ]
  },
  {
   "cell_type": "code",
   "execution_count": 158,
   "id": "6bc2fe71",
   "metadata": {},
   "outputs": [
    {
     "name": "stdout",
     "output_type": "stream",
     "text": [
      "5->9->3->2->\n"
     ]
    }
   ],
   "source": [
    "s.traverse()"
   ]
  },
  {
   "cell_type": "code",
   "execution_count": 159,
   "id": "35c145dc",
   "metadata": {},
   "outputs": [
    {
     "name": "stdout",
     "output_type": "stream",
     "text": [
      "2\n"
     ]
    }
   ],
   "source": [
    "print(s.pop())"
   ]
  },
  {
   "cell_type": "code",
   "execution_count": 160,
   "id": "509b139a",
   "metadata": {},
   "outputs": [],
   "source": [
    "#Implement Queue using Stack\n",
    "\n",
    "class QueueS :\n",
    "  def __init__(self):\n",
    "    self.s1 = stack()\n",
    "    self.s2 = stack()\n",
    "\n",
    "  def enQue(self, data):\n",
    "    self.s1.push(data)\n",
    "\n",
    "\n",
    "  def isEmpty(self):\n",
    "    return self.s1.isEmpty()\n",
    "\n",
    "  def deQue(self):\n",
    "    if( self.s1.isEmpty()):\n",
    "      print(\"Queue underflow exception\")\n",
    "      return\n",
    "    data = None\n",
    "    while not self.s1.isEmpty():\n",
    "      data = self.s1.pop()\n",
    "      if( not self.s1.isEmpty()):\n",
    "        self.s2.push(data)\n",
    "\n",
    "    while not self.s2.isEmpty():\n",
    "      self.s1.push(self.s2.pop())\n",
    "    return data\n",
    "\n",
    "  def traverse(self):\n",
    "    self.s1.traverse()\n",
    "\n",
    "\n",
    "\n"
   ]
  },
  {
   "cell_type": "code",
   "execution_count": 161,
   "id": "f59a2931",
   "metadata": {},
   "outputs": [],
   "source": [
    "q = QueueS()"
   ]
  },
  {
   "cell_type": "code",
   "execution_count": 162,
   "id": "106a2ae8",
   "metadata": {},
   "outputs": [
    {
     "name": "stdout",
     "output_type": "stream",
     "text": [
      "True\n"
     ]
    }
   ],
   "source": [
    "print(q.isEmpty())"
   ]
  },
  {
   "cell_type": "code",
   "execution_count": 163,
   "id": "14d251d3",
   "metadata": {},
   "outputs": [],
   "source": [
    "q.enQue(5)\n",
    "q.enQue(7)\n",
    "q.enQue(3)"
   ]
  },
  {
   "cell_type": "code",
   "execution_count": 164,
   "id": "5f770b3e",
   "metadata": {},
   "outputs": [
    {
     "name": "stdout",
     "output_type": "stream",
     "text": [
      "5->7->3->\n"
     ]
    }
   ],
   "source": [
    "q.traverse()"
   ]
  },
  {
   "cell_type": "code",
   "execution_count": 165,
   "id": "a355ee43",
   "metadata": {},
   "outputs": [
    {
     "name": "stdout",
     "output_type": "stream",
     "text": [
      "5\n"
     ]
    }
   ],
   "source": [
    "print(q.deQue())"
   ]
  },
  {
   "cell_type": "code",
   "execution_count": 166,
   "id": "2b1f7702",
   "metadata": {},
   "outputs": [],
   "source": [
    "class TreeNode :\n",
    "  def __init__(self, data):\n",
    "    self.data = data\n",
    "    self.left = None #represents the left child\n",
    "    self.right = None # represents the right child\n",
    "\n",
    "  def setData(self, data):\n",
    "\n",
    "     self.data = data\n",
    "\n",
    "\n",
    "  def getData(self):\n",
    "    return self.data\n",
    "\n",
    "  def setLeft(self, node):\n",
    "    self.left = node\n",
    "  def getLeft(self):\n",
    "    return self.left\n",
    "  def setRight(self,node):\n",
    "    self.right = node\n",
    "  def getRight(self):\n",
    "    return self.right"
   ]
  },
  {
   "cell_type": "code",
   "execution_count": 167,
   "id": "fb3351ff",
   "metadata": {},
   "outputs": [],
   "source": [
    "# Constructing the tree\n",
    "root = TreeNode(1)\n",
    "\n",
    "#Left SubTree\n",
    "leftR = TreeNode(2)\n",
    "leftR.setLeft(TreeNode(3))\n",
    "leftR.setRight(TreeNode(4))\n",
    "root.setLeft(leftR)\n",
    "\n",
    "#Right SubTree\n",
    "rightR = TreeNode(5)\n",
    "rightR.setLeft(TreeNode(6))\n",
    "rightR.setRight(TreeNode(7))\n",
    "root.setRight(rightR)\n",
    "\n",
    "#rightR.getRight().setLeft(TreeNode(8))"
   ]
  },
  {
   "cell_type": "code",
   "execution_count": 168,
   "id": "84fac66e",
   "metadata": {},
   "outputs": [],
   "source": [
    "# Pre Order Traversal\n",
    "\n",
    "def preOrder(root):\n",
    "  #Base condition\n",
    "  if not root :\n",
    "    return\n",
    "  print(root.getData(), end=\"->\")\n",
    "  #preOrder traversal of left subtree\n",
    "  preOrder(root.getLeft())\n",
    "  #preOrder traversal of right subtree\n",
    "  preOrder(root.getRight())\n"
   ]
  },
  {
   "cell_type": "code",
   "execution_count": 169,
   "id": "d5a7378a",
   "metadata": {},
   "outputs": [
    {
     "name": "stdout",
     "output_type": "stream",
     "text": [
      "1->2->3->4->5->6->7->"
     ]
    }
   ],
   "source": [
    "preOrder(root)"
   ]
  },
  {
   "cell_type": "code",
   "execution_count": 170,
   "id": "29c98443",
   "metadata": {},
   "outputs": [],
   "source": [
    "def inOrder(root):\n",
    "  #Base condition\n",
    "  if not root :\n",
    "    return\n",
    "\n",
    "  #traverse the left subtree\n",
    "  inOrder(root.getLeft())\n",
    "\n",
    "  #Print the root\n",
    "  print(root.getData(), end=\"->\")\n",
    "\n",
    "  #Traverse the right subtree\n",
    "  inOrder(root.getRight())\n"
   ]
  },
  {
   "cell_type": "code",
   "execution_count": 171,
   "id": "b512de0f",
   "metadata": {},
   "outputs": [
    {
     "name": "stdout",
     "output_type": "stream",
     "text": [
      "3->2->4->1->6->5->7->"
     ]
    }
   ],
   "source": [
    "inOrder(root)"
   ]
  },
  {
   "cell_type": "code",
   "execution_count": 172,
   "id": "7f1c19cd",
   "metadata": {},
   "outputs": [],
   "source": [
    "def postOrder(root):\n",
    "  if not root :\n",
    "    return\n",
    "  #traverse first LST\n",
    "  postOrder(root.getLeft())\n",
    "  #traverse the RST\n",
    "  postOrder(root.getRight())\n",
    "  print(root.getData(),end=\"->\")"
   ]
  },
  {
   "cell_type": "code",
   "execution_count": 173,
   "id": "1de5c678",
   "metadata": {},
   "outputs": [
    {
     "name": "stdout",
     "output_type": "stream",
     "text": [
      "3->4->2->6->7->5->1->"
     ]
    }
   ],
   "source": [
    "postOrder(root)"
   ]
  },
  {
   "cell_type": "code",
   "execution_count": 174,
   "id": "af1a721b",
   "metadata": {},
   "outputs": [],
   "source": [
    "class Node :\n",
    "\n",
    "  def __init__(self, data, next=None):\n",
    "    self.data = data\n",
    "    self.next = next\n",
    "\n",
    "  def getData(self):\n",
    "    return self.data\n",
    "\n",
    "  def setData(self, data):\n",
    "    self.data = data\n",
    "\n",
    "  def setNext(self, next):\n",
    "    self.next = next\n",
    "\n",
    "  def getNext(self):\n",
    "    return self.next"
   ]
  },
  {
   "cell_type": "code",
   "execution_count": 175,
   "id": "e07f8aef",
   "metadata": {},
   "outputs": [],
   "source": [
    "class QueueLL :\n",
    "  def __init__(self):\n",
    "    self.head = None\n",
    "    self.tail = None\n",
    "    self.size =0\n",
    "\n",
    "  def isEmpty(self):\n",
    "    return self.head == None # self.tail == None\n",
    "\n",
    "  def enQue(self, data):\n",
    "    node = Node(data)\n",
    "\n",
    "    if self.isEmpty():\n",
    "      self.head = node\n",
    "      self.tail = node\n",
    "    else :\n",
    "      self.tail.setNext(node)\n",
    "      self.tail = self.tail.getNext()\n",
    "    self.size +=1\n",
    "\n",
    "  def deQueue(self):\n",
    "    if self.isEmpty():\n",
    "      print(\"Queue underflow\")\n",
    "      return\n",
    "    data = self.head.getData()\n",
    "\n",
    "    #chek if it's the only element\n",
    "    if(self.head == self.tail):\n",
    "      self.head = None\n",
    "      self.tail= None #Becase after deQue, Queue will be empty\n",
    "    else:\n",
    "      self.head = self.head.getNext()\n",
    "    self.size -= 1\n",
    "    return data\n",
    "\n",
    "  def traverse(self):\n",
    "    temp = self.head\n",
    "    while(temp ):\n",
    "      print(temp.getData(), end=\"->\")\n",
    "      temp = temp.getNext()\n",
    "    print()\n",
    "\n"
   ]
  },
  {
   "cell_type": "code",
   "execution_count": 176,
   "id": "0e10c388",
   "metadata": {},
   "outputs": [],
   "source": [
    "def levelOrder(root):\n",
    "  if not root :\n",
    "    return\n",
    "  q = QueueLL()\n",
    "  q.enQue(root)\n",
    "  while not q.isEmpty():\n",
    "    #Deque the element from the queue\n",
    "    temp = q.deQueue()\n",
    "    print(temp.getData(), end=\"->\")\n",
    "\n",
    "    if temp.getLeft():\n",
    "      q.enQue(temp.getLeft())\n",
    "    if temp.getRight():\n",
    "      q.enQue(temp.getRight())"
   ]
  },
  {
   "cell_type": "code",
   "execution_count": 177,
   "id": "788f2c9d",
   "metadata": {},
   "outputs": [
    {
     "name": "stdout",
     "output_type": "stream",
     "text": [
      "1->2->5->3->4->6->7->"
     ]
    }
   ],
   "source": [
    "levelOrder(root)"
   ]
  },
  {
   "cell_type": "code",
   "execution_count": 178,
   "id": "98beee59",
   "metadata": {},
   "outputs": [],
   "source": [
    "def maximum(a,b,c):\n",
    "  if a>=b :\n",
    "    if a>=c :\n",
    "      return a\n",
    "    else :\n",
    "      return c\n",
    "  else :\n",
    "    if b >=c :\n",
    "      return b\n",
    "    else :\n",
    "      return c"
   ]
  },
  {
   "cell_type": "code",
   "execution_count": 179,
   "id": "6f415f7c",
   "metadata": {},
   "outputs": [],
   "source": [
    "def max(root):\n",
    "  if not root :\n",
    "    return float('-inf') # represents the num smaller than all other numbers\n",
    "\n",
    "  max_left = max(root.getLeft())\n",
    "  max_right = max(root.getRight())\n",
    "  return maximum(max_left, max_right, root.getData())\n"
   ]
  },
  {
   "cell_type": "code",
   "execution_count": 180,
   "id": "f1d9191a",
   "metadata": {},
   "outputs": [
    {
     "data": {
      "text/plain": [
       "7"
      ]
     },
     "execution_count": 180,
     "metadata": {},
     "output_type": "execute_result"
    }
   ],
   "source": [
    "max(root)"
   ]
  },
  {
   "cell_type": "code",
   "execution_count": 181,
   "id": "8b994d68",
   "metadata": {},
   "outputs": [],
   "source": [
    "def minimum(a,b,c):\n",
    "  if a<=b:\n",
    "    if a<=c:\n",
    "      return a\n",
    "    else:\n",
    "      return c\n",
    "  else:\n",
    "    if b<=c:\n",
    "      return b\n",
    "    else:\n",
    "      return c\n"
   ]
  },
  {
   "cell_type": "code",
   "execution_count": 182,
   "id": "e2f9e630",
   "metadata": {},
   "outputs": [],
   "source": [
    "def min(root):\n",
    "  if not root:\n",
    "    return float('inf')\n",
    "\n",
    "  min_left = min(root.getLeft())\n",
    "  min_right = min(root.getRight())\n",
    "  return minimum(min_left, min_right, root.getData())"
   ]
  },
  {
   "cell_type": "code",
   "execution_count": 183,
   "id": "f209ed34",
   "metadata": {},
   "outputs": [
    {
     "name": "stdout",
     "output_type": "stream",
     "text": [
      "1\n"
     ]
    }
   ],
   "source": [
    "print(min(root))"
   ]
  },
  {
   "cell_type": "code",
   "execution_count": null,
   "id": "4c9f08da",
   "metadata": {},
   "outputs": [],
   "source": []
  },
  {
   "cell_type": "code",
   "execution_count": null,
   "id": "b9289315",
   "metadata": {},
   "outputs": [],
   "source": []
  },
  {
   "cell_type": "code",
   "execution_count": null,
   "id": "28a252ce",
   "metadata": {},
   "outputs": [],
   "source": []
  },
  {
   "cell_type": "code",
   "execution_count": null,
   "id": "7d66932a",
   "metadata": {},
   "outputs": [],
   "source": []
  },
  {
   "cell_type": "code",
   "execution_count": null,
   "id": "73ba2414",
   "metadata": {},
   "outputs": [],
   "source": []
  },
  {
   "cell_type": "code",
   "execution_count": null,
   "id": "01e8ac58",
   "metadata": {},
   "outputs": [],
   "source": []
  },
  {
   "cell_type": "code",
   "execution_count": null,
   "id": "a0a75572",
   "metadata": {},
   "outputs": [],
   "source": []
  },
  {
   "cell_type": "code",
   "execution_count": null,
   "id": "1b599e3e",
   "metadata": {},
   "outputs": [],
   "source": []
  },
  {
   "cell_type": "code",
   "execution_count": null,
   "id": "f5b444bb",
   "metadata": {},
   "outputs": [],
   "source": []
  },
  {
   "cell_type": "code",
   "execution_count": null,
   "id": "6e45fe47",
   "metadata": {},
   "outputs": [],
   "source": []
  },
  {
   "cell_type": "code",
   "execution_count": null,
   "id": "a96a525d",
   "metadata": {},
   "outputs": [],
   "source": []
  },
  {
   "cell_type": "code",
   "execution_count": null,
   "id": "dbebc19b",
   "metadata": {},
   "outputs": [],
   "source": []
  },
  {
   "cell_type": "code",
   "execution_count": null,
   "id": "98626ea2",
   "metadata": {},
   "outputs": [],
   "source": []
  },
  {
   "cell_type": "code",
   "execution_count": null,
   "id": "10f52299",
   "metadata": {},
   "outputs": [],
   "source": []
  },
  {
   "cell_type": "code",
   "execution_count": null,
   "id": "f799f5ab",
   "metadata": {},
   "outputs": [],
   "source": []
  },
  {
   "cell_type": "code",
   "execution_count": null,
   "id": "bd553034",
   "metadata": {},
   "outputs": [],
   "source": []
  },
  {
   "cell_type": "code",
   "execution_count": null,
   "id": "3369e913",
   "metadata": {},
   "outputs": [],
   "source": []
  },
  {
   "cell_type": "code",
   "execution_count": null,
   "id": "b10dcc1d",
   "metadata": {},
   "outputs": [],
   "source": []
  },
  {
   "cell_type": "code",
   "execution_count": null,
   "id": "29931c27",
   "metadata": {},
   "outputs": [],
   "source": []
  }
 ],
 "metadata": {
  "kernelspec": {
   "display_name": "Python 3 (ipykernel)",
   "language": "python",
   "name": "python3"
  },
  "language_info": {
   "codemirror_mode": {
    "name": "ipython",
    "version": 3
   },
   "file_extension": ".py",
   "mimetype": "text/x-python",
   "name": "python",
   "nbconvert_exporter": "python",
   "pygments_lexer": "ipython3",
   "version": "3.11.5"
  }
 },
 "nbformat": 4,
 "nbformat_minor": 5
}
